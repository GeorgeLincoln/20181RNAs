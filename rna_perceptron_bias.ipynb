{
 "cells": [
  {
   "cell_type": "code",
   "execution_count": 1,
   "metadata": {
    "collapsed": true
   },
   "outputs": [],
   "source": [
    "from numpy import array, dot"
   ]
  },
  {
   "cell_type": "code",
   "execution_count": 2,
   "metadata": {
    "collapsed": true
   },
   "outputs": [],
   "source": [
    "# Função Soma - Soma ponderada das entradas e pesos\n",
    "soma = lambda x, w, bias: dot(x, w) + bias"
   ]
  },
  {
   "cell_type": "code",
   "execution_count": 3,
   "metadata": {
    "collapsed": true
   },
   "outputs": [],
   "source": [
    "# Função de Ativação: Funcao Degrau\n",
    "# t é um limiar (limiar linear)\n",
    "# Retorna um nível de ativação (0 ou 1)\n",
    "degrau = lambda X, t: 1 if X > t else 0"
   ]
  },
  {
   "cell_type": "code",
   "execution_count": 4,
   "metadata": {
    "collapsed": true
   },
   "outputs": [],
   "source": [
    "def calcular_erro(saida_desejada, saida_produzida):\n",
    "    return saida_desejada - saida_produzida"
   ]
  },
  {
   "cell_type": "code",
   "execution_count": 5,
   "metadata": {
    "collapsed": true
   },
   "outputs": [],
   "source": [
    "def treinar(dados, t, a, _pesos, _bias):\n",
    "    global w, bias\n",
    "    w, bias = _pesos, _bias\n",
    "    max_epocas = 3000\n",
    "    for epoca in range(max_epocas):\n",
    "        Erro = False\n",
    "        print('Época: {}'.format(epoca + 1))\n",
    "        for x, y in dados:\n",
    "\n",
    "            somatorio = soma(x, w, bias)\n",
    "            y_atual = degrau(somatorio, t)\n",
    "            erro = calcular_erro(y, y_atual)\n",
    "\n",
    "            if erro != 0:\n",
    "                # Ajusta pesos\n",
    "                w = w + (a * array(x) * erro)\n",
    "                bias = bias + (a * erro)\n",
    "                Erro = True\n",
    "            print('\\tx:{}\\ty_esp: {}\\ty_atual: {} erro:{} pesos:{} bias:{}'.format(x, y, y_atual, erro, w, bias))\n",
    "        if not Erro:\n",
    "            print('Modelo treinado!')\n",
    "            break\n",
    "    print('Model Error:', Erro)\n",
    "    print('Pesos:{}'.format(w))"
   ]
  },
  {
   "cell_type": "code",
   "execution_count": 6,
   "metadata": {
    "collapsed": true
   },
   "outputs": [],
   "source": [
    "def exemplo_porta_ou():\n",
    "    # Limiar, Taxa de Aprendizado\n",
    "    t, a = 0, 0.2\n",
    "    \n",
    "    # Inicialização dos pesos com valores aleatórios \n",
    "    w = [-0.2, 0.4]    \n",
    "    \n",
    "    # Inicialização do bias\n",
    "    bias = 0\n",
    "    \n",
    "    # Estes dados serâo usados para treinar o perceptron\n",
    "    dados = [\n",
    "        [(0, 0), 0],\n",
    "        [(0, 1), 1],\n",
    "        [(1, 0), 1],\n",
    "        [(1, 1), 1],\n",
    "    ]\n",
    "    treinar(dados, t, a, w, bias)"
   ]
  },
  {
   "cell_type": "markdown",
   "metadata": {},
   "source": [
    "#### Exemplo com o Plano Cartesiano"
   ]
  },
  {
   "cell_type": "code",
   "execution_count": 7,
   "metadata": {
    "collapsed": true
   },
   "outputs": [],
   "source": [
    "# Estes dados serâo usados para treinar o perceptron\n",
    "dados = [\n",
    "        [(0.3, 0.7), 1],\n",
    "        [(-0.6, 3), 0],\n",
    "        [(-0.1, -0.8), 0],\n",
    "        [(0.1, -0.45), 1],\n",
    "    ]"
   ]
  },
  {
   "cell_type": "code",
   "execution_count": 8,
   "metadata": {
    "collapsed": true
   },
   "outputs": [],
   "source": [
    "# Inicialização dos pesos com valores aleatórios \n",
    "w = [0.8, -0.5] "
   ]
  },
  {
   "cell_type": "code",
   "execution_count": 9,
   "metadata": {
    "collapsed": true
   },
   "outputs": [],
   "source": [
    "# Limiar, Taxa de Aprendizado (Learning rate ou alpha)\n",
    "t, a = 0, 0.5"
   ]
  },
  {
   "cell_type": "code",
   "execution_count": 10,
   "metadata": {},
   "outputs": [
    {
     "data": {
      "image/png": "[encoded data removed]",
      "text/plain": [
       "<matplotlib.figure.Figure at 0x250af4d92b0>"
      ]
     },
     "metadata": {},
     "output_type": "display_data"
    }
   ],
   "source": [
    "from matplotlib import pyplot as plt\n",
    "cores = {0:'red', 1:'blue'}\n",
    "for x, y in dados:\n",
    "    plt.scatter(x[0], x[1], c=cores[y])\n",
    "plt.plot([-1, 1], [0, 0], c='gray')\n",
    "plt.plot([0, 0], [-1, 3], c='gray')\n",
    "plt.show()"
   ]
  },
  {
   "cell_type": "code",
   "execution_count": 11,
   "metadata": {},
   "outputs": [
    {
     "name": "stdout",
     "output_type": "stream",
     "text": [
      "Época: 1\n",
      "\tx:(0.3, 0.7)\ty_esp: 1\ty_atual: 0 erro:1 pesos:[ 0.95 -0.15] bias:0.5\n",
      "\tx:(-0.6, 3)\ty_esp: 0\ty_atual: 0 erro:0 pesos:[ 0.95 -0.15] bias:0.5\n",
      "\tx:(-0.1, -0.8)\ty_esp: 0\ty_atual: 1 erro:-1 pesos:[1.   0.25] bias:0.0\n",
      "\tx:(0.1, -0.45)\ty_esp: 1\ty_atual: 0 erro:1 pesos:[1.05  0.025] bias:0.5\n",
      "Época: 2\n",
      "\tx:(0.3, 0.7)\ty_esp: 1\ty_atual: 1 erro:0 pesos:[1.05  0.025] bias:0.5\n",
      "\tx:(-0.6, 3)\ty_esp: 0\ty_atual: 0 erro:0 pesos:[1.05  0.025] bias:0.5\n",
      "\tx:(-0.1, -0.8)\ty_esp: 0\ty_atual: 1 erro:-1 pesos:[1.1   0.425] bias:0.0\n",
      "\tx:(0.1, -0.45)\ty_esp: 1\ty_atual: 0 erro:1 pesos:[1.15 0.2 ] bias:0.5\n",
      "Época: 3\n",
      "\tx:(0.3, 0.7)\ty_esp: 1\ty_atual: 1 erro:0 pesos:[1.15 0.2 ] bias:0.5\n",
      "\tx:(-0.6, 3)\ty_esp: 0\ty_atual: 1 erro:-1 pesos:[ 1.45 -1.3 ] bias:0.0\n",
      "\tx:(-0.1, -0.8)\ty_esp: 0\ty_atual: 1 erro:-1 pesos:[ 1.5 -0.9] bias:-0.5\n",
      "\tx:(0.1, -0.45)\ty_esp: 1\ty_atual: 1 erro:0 pesos:[ 1.5 -0.9] bias:-0.5\n",
      "Época: 4\n",
      "\tx:(0.3, 0.7)\ty_esp: 1\ty_atual: 0 erro:1 pesos:[ 1.65 -0.55] bias:0.0\n",
      "\tx:(-0.6, 3)\ty_esp: 0\ty_atual: 0 erro:0 pesos:[ 1.65 -0.55] bias:0.0\n",
      "\tx:(-0.1, -0.8)\ty_esp: 0\ty_atual: 1 erro:-1 pesos:[ 1.7  -0.15] bias:-0.5\n",
      "\tx:(0.1, -0.45)\ty_esp: 1\ty_atual: 0 erro:1 pesos:[ 1.75  -0.375] bias:0.0\n",
      "Época: 5\n",
      "\tx:(0.3, 0.7)\ty_esp: 1\ty_atual: 1 erro:0 pesos:[ 1.75  -0.375] bias:0.0\n",
      "\tx:(-0.6, 3)\ty_esp: 0\ty_atual: 0 erro:0 pesos:[ 1.75  -0.375] bias:0.0\n",
      "\tx:(-0.1, -0.8)\ty_esp: 0\ty_atual: 1 erro:-1 pesos:[1.8   0.025] bias:-0.5\n",
      "\tx:(0.1, -0.45)\ty_esp: 1\ty_atual: 0 erro:1 pesos:[ 1.85 -0.2 ] bias:0.0\n",
      "Época: 6\n",
      "\tx:(0.3, 0.7)\ty_esp: 1\ty_atual: 1 erro:0 pesos:[ 1.85 -0.2 ] bias:0.0\n",
      "\tx:(-0.6, 3)\ty_esp: 0\ty_atual: 0 erro:0 pesos:[ 1.85 -0.2 ] bias:0.0\n",
      "\tx:(-0.1, -0.8)\ty_esp: 0\ty_atual: 0 erro:0 pesos:[ 1.85 -0.2 ] bias:0.0\n",
      "\tx:(0.1, -0.45)\ty_esp: 1\ty_atual: 1 erro:0 pesos:[ 1.85 -0.2 ] bias:0.0\n",
      "Modelo treinado!\n",
      "Model Error: False\n",
      "Pesos:[ 1.85 -0.2 ]\n"
     ]
    }
   ],
   "source": [
    "treinar(dados, t, a, w, _bias = 0)"
   ]
  },
  {
   "cell_type": "code",
   "execution_count": 12,
   "metadata": {},
   "outputs": [
    {
     "name": "stdout",
     "output_type": "stream",
     "text": [
      "Época: 1\n",
      "\tx:(0, 0)\ty_esp: 0\ty_atual: 0 erro:0 pesos:[-0.2, 0.4] bias:0\n",
      "\tx:(0, 1)\ty_esp: 1\ty_atual: 1 erro:0 pesos:[-0.2, 0.4] bias:0\n",
      "\tx:(1, 0)\ty_esp: 1\ty_atual: 0 erro:1 pesos:[0.  0.4] bias:0.2\n",
      "\tx:(1, 1)\ty_esp: 1\ty_atual: 1 erro:0 pesos:[0.  0.4] bias:0.2\n",
      "Época: 2\n",
      "\tx:(0, 0)\ty_esp: 0\ty_atual: 1 erro:-1 pesos:[0.  0.4] bias:0.0\n",
      "\tx:(0, 1)\ty_esp: 1\ty_atual: 1 erro:0 pesos:[0.  0.4] bias:0.0\n",
      "\tx:(1, 0)\ty_esp: 1\ty_atual: 0 erro:1 pesos:[0.2 0.4] bias:0.2\n",
      "\tx:(1, 1)\ty_esp: 1\ty_atual: 1 erro:0 pesos:[0.2 0.4] bias:0.2\n",
      "Época: 3\n",
      "\tx:(0, 0)\ty_esp: 0\ty_atual: 1 erro:-1 pesos:[0.2 0.4] bias:0.0\n",
      "\tx:(0, 1)\ty_esp: 1\ty_atual: 1 erro:0 pesos:[0.2 0.4] bias:0.0\n",
      "\tx:(1, 0)\ty_esp: 1\ty_atual: 1 erro:0 pesos:[0.2 0.4] bias:0.0\n",
      "\tx:(1, 1)\ty_esp: 1\ty_atual: 1 erro:0 pesos:[0.2 0.4] bias:0.0\n",
      "Época: 4\n",
      "\tx:(0, 0)\ty_esp: 0\ty_atual: 0 erro:0 pesos:[0.2 0.4] bias:0.0\n",
      "\tx:(0, 1)\ty_esp: 1\ty_atual: 1 erro:0 pesos:[0.2 0.4] bias:0.0\n",
      "\tx:(1, 0)\ty_esp: 1\ty_atual: 1 erro:0 pesos:[0.2 0.4] bias:0.0\n",
      "\tx:(1, 1)\ty_esp: 1\ty_atual: 1 erro:0 pesos:[0.2 0.4] bias:0.0\n",
      "Modelo treinado!\n",
      "Model Error: False\n",
      "Pesos:[0.2 0.4]\n"
     ]
    }
   ],
   "source": [
    "exemplo_porta_ou()"
   ]
  },
  {
   "cell_type": "markdown",
   "metadata": {},
   "source": [
    "#### Exemplo com a porta OU"
   ]
  },
  {
   "cell_type": "code",
   "execution_count": 13,
   "metadata": {},
   "outputs": [
    {
     "name": "stdout",
     "output_type": "stream",
     "text": [
      "Época: 1\n",
      "\tx:(0, 0)\ty_esp: 0\ty_atual: 0 erro:0 pesos:[-0.2, 0.4] bias:0\n",
      "\tx:(0, 1)\ty_esp: 1\ty_atual: 1 erro:0 pesos:[-0.2, 0.4] bias:0\n",
      "\tx:(1, 0)\ty_esp: 1\ty_atual: 0 erro:1 pesos:[0.  0.4] bias:0.2\n",
      "\tx:(1, 1)\ty_esp: 1\ty_atual: 1 erro:0 pesos:[0.  0.4] bias:0.2\n",
      "Época: 2\n",
      "\tx:(0, 0)\ty_esp: 0\ty_atual: 1 erro:-1 pesos:[0.  0.4] bias:0.0\n",
      "\tx:(0, 1)\ty_esp: 1\ty_atual: 1 erro:0 pesos:[0.  0.4] bias:0.0\n",
      "\tx:(1, 0)\ty_esp: 1\ty_atual: 0 erro:1 pesos:[0.2 0.4] bias:0.2\n",
      "\tx:(1, 1)\ty_esp: 1\ty_atual: 1 erro:0 pesos:[0.2 0.4] bias:0.2\n",
      "Época: 3\n",
      "\tx:(0, 0)\ty_esp: 0\ty_atual: 1 erro:-1 pesos:[0.2 0.4] bias:0.0\n",
      "\tx:(0, 1)\ty_esp: 1\ty_atual: 1 erro:0 pesos:[0.2 0.4] bias:0.0\n",
      "\tx:(1, 0)\ty_esp: 1\ty_atual: 1 erro:0 pesos:[0.2 0.4] bias:0.0\n",
      "\tx:(1, 1)\ty_esp: 1\ty_atual: 1 erro:0 pesos:[0.2 0.4] bias:0.0\n",
      "Época: 4\n",
      "\tx:(0, 0)\ty_esp: 0\ty_atual: 0 erro:0 pesos:[0.2 0.4] bias:0.0\n",
      "\tx:(0, 1)\ty_esp: 1\ty_atual: 1 erro:0 pesos:[0.2 0.4] bias:0.0\n",
      "\tx:(1, 0)\ty_esp: 1\ty_atual: 1 erro:0 pesos:[0.2 0.4] bias:0.0\n",
      "\tx:(1, 1)\ty_esp: 1\ty_atual: 1 erro:0 pesos:[0.2 0.4] bias:0.0\n",
      "Modelo treinado!\n",
      "Model Error: False\n",
      "Pesos:[0.2 0.4]\n"
     ]
    }
   ],
   "source": [
    "# Limiar, Taxa de Aprendizado\n",
    "t, a = 0, 0.2\n",
    "    \n",
    "# Inicialização dos pesos com valores aleatórios \n",
    "w = [-0.2, 0.4]    \n",
    "    \n",
    "    \n",
    "# Estes dados serâo usados para treinar o perceptron\n",
    "dados = [\n",
    "        [(0, 0), 0],\n",
    "        [(0, 1), 1],\n",
    "        [(1, 0), 1],\n",
    "        [(1, 1), 1],\n",
    "]\n",
    "treinar(dados, t, a, w, _bias = 0)"
   ]
  },
  {
   "cell_type": "code",
   "execution_count": 14,
   "metadata": {},
   "outputs": [
    {
     "data": {
      "image/png": "[encoded data removed]",
      "text/plain": [
       "<matplotlib.figure.Figure at 0x250bd824a58>"
      ]
     },
     "metadata": {},
     "output_type": "display_data"
    }
   ],
   "source": [
    "from matplotlib import pyplot as plt\n",
    "cores = {0:'red', 1:'blue'}\n",
    "for x, y in dados:\n",
    "    plt.scatter(x[0], x[1], c=cores[y])\n",
    "plt.plot([-1, 1], [0, 0], c='gray')\n",
    "plt.plot([0, 0], [-1, 3], c='gray')\n",
    "plt.show()"
   ]
  },
  {
   "cell_type": "code",
   "execution_count": 15,
   "metadata": {},
   "outputs": [
    {
     "name": "stdout",
     "output_type": "stream",
     "text": [
      "Época: 1\n",
      "\tx:(0, 0)\ty_esp: 0\ty_atual: 1 erro:-1 pesos:[0.45356471 0.68897428] bias:0.5495841014866614\n",
      "\tx:(0, 1)\ty_esp: 1\ty_atual: 1 erro:0 pesos:[0.45356471 0.68897428] bias:0.5495841014866614\n",
      "\tx:(1, 0)\ty_esp: 1\ty_atual: 1 erro:0 pesos:[0.45356471 0.68897428] bias:0.5495841014866614\n",
      "\tx:(1, 1)\ty_esp: 1\ty_atual: 1 erro:0 pesos:[0.45356471 0.68897428] bias:0.5495841014866614\n",
      "Época: 2\n",
      "\tx:(0, 0)\ty_esp: 0\ty_atual: 1 erro:-1 pesos:[0.45356471 0.68897428] bias:0.34958410148666136\n",
      "\tx:(0, 1)\ty_esp: 1\ty_atual: 1 erro:0 pesos:[0.45356471 0.68897428] bias:0.34958410148666136\n",
      "\tx:(1, 0)\ty_esp: 1\ty_atual: 1 erro:0 pesos:[0.45356471 0.68897428] bias:0.34958410148666136\n",
      "\tx:(1, 1)\ty_esp: 1\ty_atual: 1 erro:0 pesos:[0.45356471 0.68897428] bias:0.34958410148666136\n",
      "Época: 3\n",
      "\tx:(0, 0)\ty_esp: 0\ty_atual: 1 erro:-1 pesos:[0.45356471 0.68897428] bias:0.14958410148666135\n",
      "\tx:(0, 1)\ty_esp: 1\ty_atual: 1 erro:0 pesos:[0.45356471 0.68897428] bias:0.14958410148666135\n",
      "\tx:(1, 0)\ty_esp: 1\ty_atual: 1 erro:0 pesos:[0.45356471 0.68897428] bias:0.14958410148666135\n",
      "\tx:(1, 1)\ty_esp: 1\ty_atual: 1 erro:0 pesos:[0.45356471 0.68897428] bias:0.14958410148666135\n",
      "Época: 4\n",
      "\tx:(0, 0)\ty_esp: 0\ty_atual: 1 erro:-1 pesos:[0.45356471 0.68897428] bias:-0.050415898513338664\n",
      "\tx:(0, 1)\ty_esp: 1\ty_atual: 1 erro:0 pesos:[0.45356471 0.68897428] bias:-0.050415898513338664\n",
      "\tx:(1, 0)\ty_esp: 1\ty_atual: 1 erro:0 pesos:[0.45356471 0.68897428] bias:-0.050415898513338664\n",
      "\tx:(1, 1)\ty_esp: 1\ty_atual: 1 erro:0 pesos:[0.45356471 0.68897428] bias:-0.050415898513338664\n",
      "Época: 5\n",
      "\tx:(0, 0)\ty_esp: 0\ty_atual: 0 erro:0 pesos:[0.45356471 0.68897428] bias:-0.050415898513338664\n",
      "\tx:(0, 1)\ty_esp: 1\ty_atual: 1 erro:0 pesos:[0.45356471 0.68897428] bias:-0.050415898513338664\n",
      "\tx:(1, 0)\ty_esp: 1\ty_atual: 1 erro:0 pesos:[0.45356471 0.68897428] bias:-0.050415898513338664\n",
      "\tx:(1, 1)\ty_esp: 1\ty_atual: 1 erro:0 pesos:[0.45356471 0.68897428] bias:-0.050415898513338664\n",
      "Modelo treinado!\n",
      "Model Error: False\n",
      "Pesos:[0.45356471 0.68897428]\n"
     ]
    }
   ],
   "source": [
    "from numpy.random import random\n",
    "# Limiar, Taxa de Aprendizado\n",
    "t, a = 0, 0.2\n",
    "    \n",
    "# Inicialização dos pesos com valores aleatórios \n",
    "w = random(2)    \n",
    "    \n",
    "    \n",
    "# Estes dados serâo usados para treinar o perceptron\n",
    "dados = [\n",
    "        [(0, 0), 0],\n",
    "        [(0, 1), 1],\n",
    "        [(1, 0), 1],\n",
    "        [(1, 1), 1],\n",
    "]\n",
    "treinar(dados, t, a, w, _bias = random())"
   ]
  },
  {
   "cell_type": "markdown",
   "metadata": {},
   "source": [
    "#### Exemplo com a porta AND"
   ]
  },
  {
   "cell_type": "code",
   "execution_count": 16,
   "metadata": {},
   "outputs": [
    {
     "name": "stdout",
     "output_type": "stream",
     "text": [
      "Época: 1\n",
      "\tx:(0, 0)\ty_esp: 0\ty_atual: 1 erro:-1 pesos:[0.82573107 0.43506133] bias:0.6109056332181604\n",
      "\tx:(0, 1)\ty_esp: 0\ty_atual: 1 erro:-1 pesos:[0.82573107 0.23506133] bias:0.41090563321816037\n",
      "\tx:(1, 0)\ty_esp: 0\ty_atual: 1 erro:-1 pesos:[0.62573107 0.23506133] bias:0.21090563321816036\n",
      "\tx:(1, 1)\ty_esp: 1\ty_atual: 1 erro:0 pesos:[0.62573107 0.23506133] bias:0.21090563321816036\n",
      "Época: 2\n",
      "\tx:(0, 0)\ty_esp: 0\ty_atual: 1 erro:-1 pesos:[0.62573107 0.23506133] bias:0.010905633218160349\n",
      "\tx:(0, 1)\ty_esp: 0\ty_atual: 1 erro:-1 pesos:[0.62573107 0.03506133] bias:-0.18909436678183966\n",
      "\tx:(1, 0)\ty_esp: 0\ty_atual: 1 erro:-1 pesos:[0.42573107 0.03506133] bias:-0.3890943667818397\n",
      "\tx:(1, 1)\ty_esp: 1\ty_atual: 1 erro:0 pesos:[0.42573107 0.03506133] bias:-0.3890943667818397\n",
      "Época: 3\n",
      "\tx:(0, 0)\ty_esp: 0\ty_atual: 0 erro:0 pesos:[0.42573107 0.03506133] bias:-0.3890943667818397\n",
      "\tx:(0, 1)\ty_esp: 0\ty_atual: 0 erro:0 pesos:[0.42573107 0.03506133] bias:-0.3890943667818397\n",
      "\tx:(1, 0)\ty_esp: 0\ty_atual: 1 erro:-1 pesos:[0.22573107 0.03506133] bias:-0.5890943667818397\n",
      "\tx:(1, 1)\ty_esp: 1\ty_atual: 0 erro:1 pesos:[0.42573107 0.23506133] bias:-0.3890943667818397\n",
      "Época: 4\n",
      "\tx:(0, 0)\ty_esp: 0\ty_atual: 0 erro:0 pesos:[0.42573107 0.23506133] bias:-0.3890943667818397\n",
      "\tx:(0, 1)\ty_esp: 0\ty_atual: 0 erro:0 pesos:[0.42573107 0.23506133] bias:-0.3890943667818397\n",
      "\tx:(1, 0)\ty_esp: 0\ty_atual: 1 erro:-1 pesos:[0.22573107 0.23506133] bias:-0.5890943667818397\n",
      "\tx:(1, 1)\ty_esp: 1\ty_atual: 0 erro:1 pesos:[0.42573107 0.43506133] bias:-0.3890943667818397\n",
      "Época: 5\n",
      "\tx:(0, 0)\ty_esp: 0\ty_atual: 0 erro:0 pesos:[0.42573107 0.43506133] bias:-0.3890943667818397\n",
      "\tx:(0, 1)\ty_esp: 0\ty_atual: 1 erro:-1 pesos:[0.42573107 0.23506133] bias:-0.5890943667818397\n",
      "\tx:(1, 0)\ty_esp: 0\ty_atual: 0 erro:0 pesos:[0.42573107 0.23506133] bias:-0.5890943667818397\n",
      "\tx:(1, 1)\ty_esp: 1\ty_atual: 1 erro:0 pesos:[0.42573107 0.23506133] bias:-0.5890943667818397\n",
      "Época: 6\n",
      "\tx:(0, 0)\ty_esp: 0\ty_atual: 0 erro:0 pesos:[0.42573107 0.23506133] bias:-0.5890943667818397\n",
      "\tx:(0, 1)\ty_esp: 0\ty_atual: 0 erro:0 pesos:[0.42573107 0.23506133] bias:-0.5890943667818397\n",
      "\tx:(1, 0)\ty_esp: 0\ty_atual: 0 erro:0 pesos:[0.42573107 0.23506133] bias:-0.5890943667818397\n",
      "\tx:(1, 1)\ty_esp: 1\ty_atual: 1 erro:0 pesos:[0.42573107 0.23506133] bias:-0.5890943667818397\n",
      "Modelo treinado!\n",
      "Model Error: False\n",
      "Pesos:[0.42573107 0.23506133]\n"
     ]
    }
   ],
   "source": [
    "from numpy.random import random\n",
    "# Limiar, Taxa de Aprendizado\n",
    "t, a = 0, 0.2\n",
    "    \n",
    "# Inicialização dos pesos com valores aleatórios \n",
    "w = random(2)    \n",
    "    \n",
    "    \n",
    "# Estes dados serâo usados para treinar o perceptron\n",
    "dados = [\n",
    "        [(0, 0), 0],\n",
    "        [(0, 1), 0],\n",
    "        [(1, 0), 0],\n",
    "        [(1, 1), 1],\n",
    "]\n",
    "treinar(dados, t, a, w, _bias = random())"
   ]
  },
  {
   "cell_type": "code",
   "execution_count": null,
   "metadata": {
    "collapsed": true
   },
   "outputs": [],
   "source": []
  }
 ],
 "metadata": {
  "kernelspec": {
   "display_name": "Python 3",
   "language": "python",
   "name": "python3"
  },
  "language_info": {
   "codemirror_mode": {
    "name": "ipython",
    "version": 3
   },
   "file_extension": ".py",
   "mimetype": "text/x-python",
   "name": "python",
   "nbconvert_exporter": "python",
   "pygments_lexer": "ipython3",
   "version": "3.6.2"
  }
 },
 "nbformat": 4,
 "nbformat_minor": 2
}
