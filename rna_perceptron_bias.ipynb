{
 "cells": [
  {
   "cell_type": "code",
   "execution_count": 12,
   "metadata": {},
   "outputs": [],
   "source": [
    "from numpy import array, dot\n",
    "\n",
    "%matplotlib inline"
   ]
  },
  {
   "cell_type": "code",
   "execution_count": 13,
   "metadata": {},
   "outputs": [],
   "source": [
    "# Função Soma - Soma ponderada das entradas e pesos\n",
    "soma = lambda x, w, bias: dot(x, w) + bias"
   ]
  },
  {
   "cell_type": "code",
   "execution_count": 14,
   "metadata": {},
   "outputs": [],
   "source": [
    "# Função de Ativação: Funcao Degrau\n",
    "# t é um limiar (limiar linear)\n",
    "# Retorna um nível de ativação (0 ou 1)\n",
    "degrau = lambda X, t: 1 if X > t else 0"
   ]
  },
  {
   "cell_type": "code",
   "execution_count": 15,
   "metadata": {},
   "outputs": [],
   "source": [
    "def calcular_erro(saida_desejada, saida_produzida):\n",
    "    return saida_desejada - saida_produzida"
   ]
  },
  {
   "cell_type": "code",
   "execution_count": 16,
   "metadata": {},
   "outputs": [],
   "source": [
    "def treinar(dados, t, a, _pesos, _bias):\n",
    "    global w, bias\n",
    "    w, bias = _pesos, _bias\n",
    "    max_epocas = 3000\n",
    "    for epoca in range(max_epocas):\n",
    "        Erro = False\n",
    "        print('Época: {}'.format(epoca + 1))\n",
    "        for x, y in dados:\n",
    "\n",
    "            somatorio = soma(x, w, bias)\n",
    "            y_atual = degrau(somatorio, t)\n",
    "            erro = calcular_erro(y, y_atual)\n",
    "\n",
    "            if erro != 0:\n",
    "                # Ajusta pesos\n",
    "                w = w + (a * array(x) * erro)\n",
    "                bias = bias + (a * erro)\n",
    "                Erro = True\n",
    "            print('\\tx:{}\\ty_esp: {}\\ty_atual: {} erro:{} pesos:{} bias:{}'.format(x, y, y_atual, erro, w, bias))\n",
    "        if not Erro:\n",
    "            print('Modelo treinado!')\n",
    "            break\n",
    "    print('Model Error:', Erro)\n",
    "    print('Pesos:{}'.format(w))"
   ]
  },
  {
   "cell_type": "code",
   "execution_count": 17,
   "metadata": {},
   "outputs": [],
   "source": [
    "def exemplo_porta_ou():\n",
    "    # Limiar, Taxa de Aprendizado\n",
    "    t, a = 0, 0.2\n",
    "    \n",
    "    # Inicialização dos pesos com valores aleatórios \n",
    "    w = [-0.2, 0.4]    \n",
    "    \n",
    "    # Inicialização do bias\n",
    "    bias = 0\n",
    "    \n",
    "    # Estes dados serâo usados para treinar o perceptron\n",
    "    dados = [\n",
    "        [(0, 0), 0],\n",
    "        [(0, 1), 1],\n",
    "        [(1, 0), 1],\n",
    "        [(1, 1), 1],\n",
    "    ]\n",
    "    treinar(dados, t, a, w, bias)"
   ]
  },
  {
   "cell_type": "markdown",
   "metadata": {},
   "source": [
    "#### Exemplo com o Plano Cartesiano"
   ]
  },
  {
   "cell_type": "code",
   "execution_count": 18,
   "metadata": {},
   "outputs": [],
   "source": [
    "# Estes dados serâo usados para treinar o perceptron\n",
    "dados = [\n",
    "        [(0.3, 0.7), 1],\n",
    "        [(-0.6, 3), 0],\n",
    "        [(-0.1, -0.8), 0],\n",
    "        [(0.1, -0.45), 1],\n",
    "    ]"
   ]
  },
  {
   "cell_type": "code",
   "execution_count": 19,
   "metadata": {},
   "outputs": [],
   "source": [
    "# Inicialização dos pesos com valores aleatórios \n",
    "w = [0.8, -0.5] "
   ]
  },
  {
   "cell_type": "code",
   "execution_count": 20,
   "metadata": {},
   "outputs": [],
   "source": [
    "# Limiar, Taxa de Aprendizado (Learning rate ou alpha)\n",
    "t, a = 0, 0.5"
   ]
  },
  {
   "cell_type": "code",
   "execution_count": 21,
   "metadata": {},
   "outputs": [
    {
     "data": {
      "image/png": "[encoded data removed]",
      "text/plain": [
       "<Figure size 432x288 with 1 Axes>"
      ]
     },
     "metadata": {
      "needs_background": "light"
     },
     "output_type": "display_data"
    }
   ],
   "source": [
    "from matplotlib import pyplot as plt\n",
    "cores = {0:'red', 1:'blue'}\n",
    "for x, y in dados:\n",
    "    plt.scatter(x[0], x[1], c=cores[y])\n",
    "plt.plot([-1, 1], [0, 0], c='gray')\n",
    "plt.plot([0, 0], [-1, 3], c='gray')\n",
    "plt.show()"
   ]
  },
  {
   "cell_type": "code",
   "execution_count": 22,
   "metadata": {},
   "outputs": [
    {
     "name": "stdout",
     "output_type": "stream",
     "text": [
      "Época: 1\n",
      "\tx:(0.3, 0.7)\ty_esp: 1\ty_atual: 0 erro:1 pesos:[ 0.95 -0.15] bias:0.5\n",
      "\tx:(-0.6, 3)\ty_esp: 0\ty_atual: 0 erro:0 pesos:[ 0.95 -0.15] bias:0.5\n",
      "\tx:(-0.1, -0.8)\ty_esp: 0\ty_atual: 1 erro:-1 pesos:[1.   0.25] bias:0.0\n",
      "\tx:(0.1, -0.45)\ty_esp: 1\ty_atual: 0 erro:1 pesos:[1.05  0.025] bias:0.5\n",
      "Época: 2\n",
      "\tx:(0.3, 0.7)\ty_esp: 1\ty_atual: 1 erro:0 pesos:[1.05  0.025] bias:0.5\n",
      "\tx:(-0.6, 3)\ty_esp: 0\ty_atual: 0 erro:0 pesos:[1.05  0.025] bias:0.5\n",
      "\tx:(-0.1, -0.8)\ty_esp: 0\ty_atual: 1 erro:-1 pesos:[1.1   0.425] bias:0.0\n",
      "\tx:(0.1, -0.45)\ty_esp: 1\ty_atual: 0 erro:1 pesos:[1.15 0.2 ] bias:0.5\n",
      "Época: 3\n",
      "\tx:(0.3, 0.7)\ty_esp: 1\ty_atual: 1 erro:0 pesos:[1.15 0.2 ] bias:0.5\n",
      "\tx:(-0.6, 3)\ty_esp: 0\ty_atual: 1 erro:-1 pesos:[ 1.45 -1.3 ] bias:0.0\n",
      "\tx:(-0.1, -0.8)\ty_esp: 0\ty_atual: 1 erro:-1 pesos:[ 1.5 -0.9] bias:-0.5\n",
      "\tx:(0.1, -0.45)\ty_esp: 1\ty_atual: 1 erro:0 pesos:[ 1.5 -0.9] bias:-0.5\n",
      "Época: 4\n",
      "\tx:(0.3, 0.7)\ty_esp: 1\ty_atual: 0 erro:1 pesos:[ 1.65 -0.55] bias:0.0\n",
      "\tx:(-0.6, 3)\ty_esp: 0\ty_atual: 0 erro:0 pesos:[ 1.65 -0.55] bias:0.0\n",
      "\tx:(-0.1, -0.8)\ty_esp: 0\ty_atual: 1 erro:-1 pesos:[ 1.7  -0.15] bias:-0.5\n",
      "\tx:(0.1, -0.45)\ty_esp: 1\ty_atual: 0 erro:1 pesos:[ 1.75  -0.375] bias:0.0\n",
      "Época: 5\n",
      "\tx:(0.3, 0.7)\ty_esp: 1\ty_atual: 1 erro:0 pesos:[ 1.75  -0.375] bias:0.0\n",
      "\tx:(-0.6, 3)\ty_esp: 0\ty_atual: 0 erro:0 pesos:[ 1.75  -0.375] bias:0.0\n",
      "\tx:(-0.1, -0.8)\ty_esp: 0\ty_atual: 1 erro:-1 pesos:[1.8   0.025] bias:-0.5\n",
      "\tx:(0.1, -0.45)\ty_esp: 1\ty_atual: 0 erro:1 pesos:[ 1.85 -0.2 ] bias:0.0\n",
      "Época: 6\n",
      "\tx:(0.3, 0.7)\ty_esp: 1\ty_atual: 1 erro:0 pesos:[ 1.85 -0.2 ] bias:0.0\n",
      "\tx:(-0.6, 3)\ty_esp: 0\ty_atual: 0 erro:0 pesos:[ 1.85 -0.2 ] bias:0.0\n",
      "\tx:(-0.1, -0.8)\ty_esp: 0\ty_atual: 0 erro:0 pesos:[ 1.85 -0.2 ] bias:0.0\n",
      "\tx:(0.1, -0.45)\ty_esp: 1\ty_atual: 1 erro:0 pesos:[ 1.85 -0.2 ] bias:0.0\n",
      "Modelo treinado!\n",
      "Model Error: False\n",
      "Pesos:[ 1.85 -0.2 ]\n"
     ]
    }
   ],
   "source": [
    "treinar(dados, t, a, w, _bias = 0)"
   ]
  },
  {
   "cell_type": "code",
   "execution_count": 23,
   "metadata": {},
   "outputs": [
    {
     "name": "stdout",
     "output_type": "stream",
     "text": [
      "Época: 1\n",
      "\tx:(0, 0)\ty_esp: 0\ty_atual: 0 erro:0 pesos:[-0.2, 0.4] bias:0\n",
      "\tx:(0, 1)\ty_esp: 1\ty_atual: 1 erro:0 pesos:[-0.2, 0.4] bias:0\n",
      "\tx:(1, 0)\ty_esp: 1\ty_atual: 0 erro:1 pesos:[0.  0.4] bias:0.2\n",
      "\tx:(1, 1)\ty_esp: 1\ty_atual: 1 erro:0 pesos:[0.  0.4] bias:0.2\n",
      "Época: 2\n",
      "\tx:(0, 0)\ty_esp: 0\ty_atual: 1 erro:-1 pesos:[0.  0.4] bias:0.0\n",
      "\tx:(0, 1)\ty_esp: 1\ty_atual: 1 erro:0 pesos:[0.  0.4] bias:0.0\n",
      "\tx:(1, 0)\ty_esp: 1\ty_atual: 0 erro:1 pesos:[0.2 0.4] bias:0.2\n",
      "\tx:(1, 1)\ty_esp: 1\ty_atual: 1 erro:0 pesos:[0.2 0.4] bias:0.2\n",
      "Época: 3\n",
      "\tx:(0, 0)\ty_esp: 0\ty_atual: 1 erro:-1 pesos:[0.2 0.4] bias:0.0\n",
      "\tx:(0, 1)\ty_esp: 1\ty_atual: 1 erro:0 pesos:[0.2 0.4] bias:0.0\n",
      "\tx:(1, 0)\ty_esp: 1\ty_atual: 1 erro:0 pesos:[0.2 0.4] bias:0.0\n",
      "\tx:(1, 1)\ty_esp: 1\ty_atual: 1 erro:0 pesos:[0.2 0.4] bias:0.0\n",
      "Época: 4\n",
      "\tx:(0, 0)\ty_esp: 0\ty_atual: 0 erro:0 pesos:[0.2 0.4] bias:0.0\n",
      "\tx:(0, 1)\ty_esp: 1\ty_atual: 1 erro:0 pesos:[0.2 0.4] bias:0.0\n",
      "\tx:(1, 0)\ty_esp: 1\ty_atual: 1 erro:0 pesos:[0.2 0.4] bias:0.0\n",
      "\tx:(1, 1)\ty_esp: 1\ty_atual: 1 erro:0 pesos:[0.2 0.4] bias:0.0\n",
      "Modelo treinado!\n",
      "Model Error: False\n",
      "Pesos:[0.2 0.4]\n"
     ]
    }
   ],
   "source": [
    "exemplo_porta_ou()"
   ]
  },
  {
   "cell_type": "markdown",
   "metadata": {},
   "source": [
    "#### Exemplo com a porta OU"
   ]
  },
  {
   "cell_type": "code",
   "execution_count": 24,
   "metadata": {},
   "outputs": [
    {
     "name": "stdout",
     "output_type": "stream",
     "text": [
      "Época: 1\n",
      "\tx:(0, 0)\ty_esp: 0\ty_atual: 0 erro:0 pesos:[-0.2, 0.4] bias:0\n",
      "\tx:(0, 1)\ty_esp: 1\ty_atual: 1 erro:0 pesos:[-0.2, 0.4] bias:0\n",
      "\tx:(1, 0)\ty_esp: 1\ty_atual: 0 erro:1 pesos:[0.  0.4] bias:0.2\n",
      "\tx:(1, 1)\ty_esp: 1\ty_atual: 1 erro:0 pesos:[0.  0.4] bias:0.2\n",
      "Época: 2\n",
      "\tx:(0, 0)\ty_esp: 0\ty_atual: 1 erro:-1 pesos:[0.  0.4] bias:0.0\n",
      "\tx:(0, 1)\ty_esp: 1\ty_atual: 1 erro:0 pesos:[0.  0.4] bias:0.0\n",
      "\tx:(1, 0)\ty_esp: 1\ty_atual: 0 erro:1 pesos:[0.2 0.4] bias:0.2\n",
      "\tx:(1, 1)\ty_esp: 1\ty_atual: 1 erro:0 pesos:[0.2 0.4] bias:0.2\n",
      "Época: 3\n",
      "\tx:(0, 0)\ty_esp: 0\ty_atual: 1 erro:-1 pesos:[0.2 0.4] bias:0.0\n",
      "\tx:(0, 1)\ty_esp: 1\ty_atual: 1 erro:0 pesos:[0.2 0.4] bias:0.0\n",
      "\tx:(1, 0)\ty_esp: 1\ty_atual: 1 erro:0 pesos:[0.2 0.4] bias:0.0\n",
      "\tx:(1, 1)\ty_esp: 1\ty_atual: 1 erro:0 pesos:[0.2 0.4] bias:0.0\n",
      "Época: 4\n",
      "\tx:(0, 0)\ty_esp: 0\ty_atual: 0 erro:0 pesos:[0.2 0.4] bias:0.0\n",
      "\tx:(0, 1)\ty_esp: 1\ty_atual: 1 erro:0 pesos:[0.2 0.4] bias:0.0\n",
      "\tx:(1, 0)\ty_esp: 1\ty_atual: 1 erro:0 pesos:[0.2 0.4] bias:0.0\n",
      "\tx:(1, 1)\ty_esp: 1\ty_atual: 1 erro:0 pesos:[0.2 0.4] bias:0.0\n",
      "Modelo treinado!\n",
      "Model Error: False\n",
      "Pesos:[0.2 0.4]\n"
     ]
    }
   ],
   "source": [
    "# Limiar, Taxa de Aprendizado\n",
    "t, a = 0, 0.2\n",
    "    \n",
    "# Inicialização dos pesos com valores aleatórios \n",
    "w = [-0.2, 0.4]    \n",
    "    \n",
    "    \n",
    "# Estes dados serâo usados para treinar o perceptron\n",
    "dados = [\n",
    "        [(0, 0), 0],\n",
    "        [(0, 1), 1],\n",
    "        [(1, 0), 1],\n",
    "        [(1, 1), 1],\n",
    "]\n",
    "treinar(dados, t, a, w, _bias = 0)"
   ]
  },
  {
   "cell_type": "code",
   "execution_count": 25,
   "metadata": {},
   "outputs": [
    {
     "data": {
      "image/png": "[encoded data removed]",
      "text/plain": [
       "<Figure size 432x288 with 1 Axes>"
      ]
     },
     "metadata": {
      "needs_background": "light"
     },
     "output_type": "display_data"
    }
   ],
   "source": [
    "from matplotlib import pyplot as plt\n",
    "cores = {0:'red', 1:'blue'}\n",
    "for x, y in dados:\n",
    "    plt.scatter(x[0], x[1], c=cores[y])\n",
    "plt.plot([-1, 1], [0, 0], c='gray')\n",
    "plt.plot([0, 0], [-1, 3], c='gray')\n",
    "plt.show()"
   ]
  },
  {
   "cell_type": "code",
   "execution_count": 26,
   "metadata": {},
   "outputs": [
    {
     "name": "stdout",
     "output_type": "stream",
     "text": [
      "Época: 1\n",
      "\tx:(0, 0)\ty_esp: 0\ty_atual: 1 erro:-1 pesos:[0.57008958 0.0516666 ] bias:0.6276111020860673\n",
      "\tx:(0, 1)\ty_esp: 1\ty_atual: 1 erro:0 pesos:[0.57008958 0.0516666 ] bias:0.6276111020860673\n",
      "\tx:(1, 0)\ty_esp: 1\ty_atual: 1 erro:0 pesos:[0.57008958 0.0516666 ] bias:0.6276111020860673\n",
      "\tx:(1, 1)\ty_esp: 1\ty_atual: 1 erro:0 pesos:[0.57008958 0.0516666 ] bias:0.6276111020860673\n",
      "Época: 2\n",
      "\tx:(0, 0)\ty_esp: 0\ty_atual: 1 erro:-1 pesos:[0.57008958 0.0516666 ] bias:0.4276111020860673\n",
      "\tx:(0, 1)\ty_esp: 1\ty_atual: 1 erro:0 pesos:[0.57008958 0.0516666 ] bias:0.4276111020860673\n",
      "\tx:(1, 0)\ty_esp: 1\ty_atual: 1 erro:0 pesos:[0.57008958 0.0516666 ] bias:0.4276111020860673\n",
      "\tx:(1, 1)\ty_esp: 1\ty_atual: 1 erro:0 pesos:[0.57008958 0.0516666 ] bias:0.4276111020860673\n",
      "Época: 3\n",
      "\tx:(0, 0)\ty_esp: 0\ty_atual: 1 erro:-1 pesos:[0.57008958 0.0516666 ] bias:0.22761110208606727\n",
      "\tx:(0, 1)\ty_esp: 1\ty_atual: 1 erro:0 pesos:[0.57008958 0.0516666 ] bias:0.22761110208606727\n",
      "\tx:(1, 0)\ty_esp: 1\ty_atual: 1 erro:0 pesos:[0.57008958 0.0516666 ] bias:0.22761110208606727\n",
      "\tx:(1, 1)\ty_esp: 1\ty_atual: 1 erro:0 pesos:[0.57008958 0.0516666 ] bias:0.22761110208606727\n",
      "Época: 4\n",
      "\tx:(0, 0)\ty_esp: 0\ty_atual: 1 erro:-1 pesos:[0.57008958 0.0516666 ] bias:0.027611102086067263\n",
      "\tx:(0, 1)\ty_esp: 1\ty_atual: 1 erro:0 pesos:[0.57008958 0.0516666 ] bias:0.027611102086067263\n",
      "\tx:(1, 0)\ty_esp: 1\ty_atual: 1 erro:0 pesos:[0.57008958 0.0516666 ] bias:0.027611102086067263\n",
      "\tx:(1, 1)\ty_esp: 1\ty_atual: 1 erro:0 pesos:[0.57008958 0.0516666 ] bias:0.027611102086067263\n",
      "Época: 5\n",
      "\tx:(0, 0)\ty_esp: 0\ty_atual: 1 erro:-1 pesos:[0.57008958 0.0516666 ] bias:-0.17238889791393275\n",
      "\tx:(0, 1)\ty_esp: 1\ty_atual: 0 erro:1 pesos:[0.57008958 0.2516666 ] bias:0.027611102086067263\n",
      "\tx:(1, 0)\ty_esp: 1\ty_atual: 1 erro:0 pesos:[0.57008958 0.2516666 ] bias:0.027611102086067263\n",
      "\tx:(1, 1)\ty_esp: 1\ty_atual: 1 erro:0 pesos:[0.57008958 0.2516666 ] bias:0.027611102086067263\n",
      "Época: 6\n",
      "\tx:(0, 0)\ty_esp: 0\ty_atual: 1 erro:-1 pesos:[0.57008958 0.2516666 ] bias:-0.17238889791393275\n",
      "\tx:(0, 1)\ty_esp: 1\ty_atual: 1 erro:0 pesos:[0.57008958 0.2516666 ] bias:-0.17238889791393275\n",
      "\tx:(1, 0)\ty_esp: 1\ty_atual: 1 erro:0 pesos:[0.57008958 0.2516666 ] bias:-0.17238889791393275\n",
      "\tx:(1, 1)\ty_esp: 1\ty_atual: 1 erro:0 pesos:[0.57008958 0.2516666 ] bias:-0.17238889791393275\n",
      "Época: 7\n",
      "\tx:(0, 0)\ty_esp: 0\ty_atual: 0 erro:0 pesos:[0.57008958 0.2516666 ] bias:-0.17238889791393275\n",
      "\tx:(0, 1)\ty_esp: 1\ty_atual: 1 erro:0 pesos:[0.57008958 0.2516666 ] bias:-0.17238889791393275\n",
      "\tx:(1, 0)\ty_esp: 1\ty_atual: 1 erro:0 pesos:[0.57008958 0.2516666 ] bias:-0.17238889791393275\n",
      "\tx:(1, 1)\ty_esp: 1\ty_atual: 1 erro:0 pesos:[0.57008958 0.2516666 ] bias:-0.17238889791393275\n",
      "Modelo treinado!\n",
      "Model Error: False\n",
      "Pesos:[0.57008958 0.2516666 ]\n"
     ]
    }
   ],
   "source": [
    "from numpy.random import random\n",
    "# Limiar, Taxa de Aprendizado\n",
    "t, a = 0, 0.2\n",
    "    \n",
    "# Inicialização dos pesos com valores aleatórios \n",
    "w = random(2)    \n",
    "    \n",
    "    \n",
    "# Estes dados serâo usados para treinar o perceptron\n",
    "dados = [\n",
    "        [(0, 0), 0],\n",
    "        [(0, 1), 1],\n",
    "        [(1, 0), 1],\n",
    "        [(1, 1), 1],\n",
    "]\n",
    "treinar(dados, t, a, w, _bias = random())"
   ]
  },
  {
   "cell_type": "markdown",
   "metadata": {},
   "source": [
    "#### Exemplo com a porta AND"
   ]
  },
  {
   "cell_type": "code",
   "execution_count": 27,
   "metadata": {},
   "outputs": [
    {
     "name": "stdout",
     "output_type": "stream",
     "text": [
      "Época: 1\n",
      "\tx:(0, 0)\ty_esp: 0\ty_atual: 1 erro:-1 pesos:[0.27870935 0.69139692] bias:0.5923635091201485\n",
      "\tx:(0, 1)\ty_esp: 0\ty_atual: 1 erro:-1 pesos:[0.27870935 0.49139692] bias:0.39236350912014845\n",
      "\tx:(1, 0)\ty_esp: 0\ty_atual: 1 erro:-1 pesos:[0.07870935 0.49139692] bias:0.19236350912014843\n",
      "\tx:(1, 1)\ty_esp: 1\ty_atual: 1 erro:0 pesos:[0.07870935 0.49139692] bias:0.19236350912014843\n",
      "Época: 2\n",
      "\tx:(0, 0)\ty_esp: 0\ty_atual: 1 erro:-1 pesos:[0.07870935 0.49139692] bias:-0.007636490879851576\n",
      "\tx:(0, 1)\ty_esp: 0\ty_atual: 1 erro:-1 pesos:[0.07870935 0.29139692] bias:-0.2076364908798516\n",
      "\tx:(1, 0)\ty_esp: 0\ty_atual: 0 erro:0 pesos:[0.07870935 0.29139692] bias:-0.2076364908798516\n",
      "\tx:(1, 1)\ty_esp: 1\ty_atual: 1 erro:0 pesos:[0.07870935 0.29139692] bias:-0.2076364908798516\n",
      "Época: 3\n",
      "\tx:(0, 0)\ty_esp: 0\ty_atual: 0 erro:0 pesos:[0.07870935 0.29139692] bias:-0.2076364908798516\n",
      "\tx:(0, 1)\ty_esp: 0\ty_atual: 1 erro:-1 pesos:[0.07870935 0.09139692] bias:-0.4076364908798516\n",
      "\tx:(1, 0)\ty_esp: 0\ty_atual: 0 erro:0 pesos:[0.07870935 0.09139692] bias:-0.4076364908798516\n",
      "\tx:(1, 1)\ty_esp: 1\ty_atual: 0 erro:1 pesos:[0.27870935 0.29139692] bias:-0.2076364908798516\n",
      "Época: 4\n",
      "\tx:(0, 0)\ty_esp: 0\ty_atual: 0 erro:0 pesos:[0.27870935 0.29139692] bias:-0.2076364908798516\n",
      "\tx:(0, 1)\ty_esp: 0\ty_atual: 1 erro:-1 pesos:[0.27870935 0.09139692] bias:-0.4076364908798516\n",
      "\tx:(1, 0)\ty_esp: 0\ty_atual: 0 erro:0 pesos:[0.27870935 0.09139692] bias:-0.4076364908798516\n",
      "\tx:(1, 1)\ty_esp: 1\ty_atual: 0 erro:1 pesos:[0.47870935 0.29139692] bias:-0.2076364908798516\n",
      "Época: 5\n",
      "\tx:(0, 0)\ty_esp: 0\ty_atual: 0 erro:0 pesos:[0.47870935 0.29139692] bias:-0.2076364908798516\n",
      "\tx:(0, 1)\ty_esp: 0\ty_atual: 1 erro:-1 pesos:[0.47870935 0.09139692] bias:-0.4076364908798516\n",
      "\tx:(1, 0)\ty_esp: 0\ty_atual: 1 erro:-1 pesos:[0.27870935 0.09139692] bias:-0.6076364908798516\n",
      "\tx:(1, 1)\ty_esp: 1\ty_atual: 0 erro:1 pesos:[0.47870935 0.29139692] bias:-0.4076364908798516\n",
      "Época: 6\n",
      "\tx:(0, 0)\ty_esp: 0\ty_atual: 0 erro:0 pesos:[0.47870935 0.29139692] bias:-0.4076364908798516\n",
      "\tx:(0, 1)\ty_esp: 0\ty_atual: 0 erro:0 pesos:[0.47870935 0.29139692] bias:-0.4076364908798516\n",
      "\tx:(1, 0)\ty_esp: 0\ty_atual: 1 erro:-1 pesos:[0.27870935 0.29139692] bias:-0.6076364908798516\n",
      "\tx:(1, 1)\ty_esp: 1\ty_atual: 0 erro:1 pesos:[0.47870935 0.49139692] bias:-0.4076364908798516\n",
      "Época: 7\n",
      "\tx:(0, 0)\ty_esp: 0\ty_atual: 0 erro:0 pesos:[0.47870935 0.49139692] bias:-0.4076364908798516\n",
      "\tx:(0, 1)\ty_esp: 0\ty_atual: 1 erro:-1 pesos:[0.47870935 0.29139692] bias:-0.6076364908798516\n",
      "\tx:(1, 0)\ty_esp: 0\ty_atual: 0 erro:0 pesos:[0.47870935 0.29139692] bias:-0.6076364908798516\n",
      "\tx:(1, 1)\ty_esp: 1\ty_atual: 1 erro:0 pesos:[0.47870935 0.29139692] bias:-0.6076364908798516\n",
      "Época: 8\n",
      "\tx:(0, 0)\ty_esp: 0\ty_atual: 0 erro:0 pesos:[0.47870935 0.29139692] bias:-0.6076364908798516\n",
      "\tx:(0, 1)\ty_esp: 0\ty_atual: 0 erro:0 pesos:[0.47870935 0.29139692] bias:-0.6076364908798516\n",
      "\tx:(1, 0)\ty_esp: 0\ty_atual: 0 erro:0 pesos:[0.47870935 0.29139692] bias:-0.6076364908798516\n",
      "\tx:(1, 1)\ty_esp: 1\ty_atual: 1 erro:0 pesos:[0.47870935 0.29139692] bias:-0.6076364908798516\n",
      "Modelo treinado!\n",
      "Model Error: False\n",
      "Pesos:[0.47870935 0.29139692]\n"
     ]
    }
   ],
   "source": [
    "from numpy.random import random\n",
    "# Limiar, Taxa de Aprendizado\n",
    "t, a = 0, 0.2\n",
    "    \n",
    "# Inicialização dos pesos com valores aleatórios \n",
    "w = random(2)    \n",
    "    \n",
    "    \n",
    "# Estes dados serâo usados para treinar o perceptron\n",
    "dados = [\n",
    "        [(0, 0), 0],\n",
    "        [(0, 1), 0],\n",
    "        [(1, 0), 0],\n",
    "        [(1, 1), 1],\n",
    "]\n",
    "treinar(dados, t, a, w, _bias = random())"
   ]
  },
  {
   "cell_type": "code",
   "execution_count": null,
   "metadata": {},
   "outputs": [],
   "source": []
  }
 ],
 "metadata": {
  "kernelspec": {
   "display_name": "Python 3",
   "language": "python",
   "name": "python3"
  },
  "language_info": {
   "codemirror_mode": {
    "name": "ipython",
    "version": 3
   },
   "file_extension": ".py",
   "mimetype": "text/x-python",
   "name": "python",
   "nbconvert_exporter": "python",
   "pygments_lexer": "ipython3",
   "version": "3.6.6"
  }
 },
 "nbformat": 4,
 "nbformat_minor": 2
}
